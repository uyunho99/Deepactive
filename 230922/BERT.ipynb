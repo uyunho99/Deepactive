{
 "cells": [
  {
   "cell_type": "markdown",
   "metadata": {},
   "source": [
    "## Embedding"
   ]
  },
  {
   "cell_type": "code",
   "execution_count": 1,
   "metadata": {},
   "outputs": [],
   "source": [
    "import torch\n",
    "import torch.nn as nn\n",
    "import torch.nn.functional as F"
   ]
  },
  {
   "cell_type": "code",
   "execution_count": 2,
   "metadata": {},
   "outputs": [
    {
     "name": "stdout",
     "output_type": "stream",
     "text": [
      "torch.Size([1, 10, 768])\n"
     ]
    }
   ],
   "source": [
    "class BERTEmbedding(nn.Module):\n",
    "    def __init__(self, vocab_size, embed_size, max_len=512, dropout=0.1):\n",
    "        super(BERTEmbedding, self).__init__()\n",
    "        \n",
    "        self.token_embeddings = nn.Embedding(vocab_size, embed_size, padding_idx=0)\n",
    "        self.position_embeddings = nn.Embedding(max_len, embed_size)\n",
    "        self.segment_embeddings = nn.Embedding(2, embed_size) # 2: A, B segments\n",
    "\n",
    "        self.layernorm = nn.LayerNorm(embed_size, eps=1e-12, elementwise_affine=True) # affine: y = gamma * x + beta(learnable pe 시에 더 좋은 성능)\n",
    "        self.dropout = nn.Dropout(p=dropout, inplace=False) # inplace=True: input에 직접 연산을 수행하고 output을 반환하지 않음(메모리 절약)\n",
    "\n",
    "    def forward(self, tokens, segments):\n",
    "        \n",
    "        token_embeds = self.token_embeddings(tokens)\n",
    "\n",
    "        positions = torch.arange(tokens.size(1)).unsqueeze(0).to(tokens.device) # seq_len -> [[0, 1, 2, ..., seq_len-1]]\n",
    "        position_embeds = self.position_embeddings(positions)\n",
    "        \n",
    "        segment_embeds = self.segment_embeddings(segments)\n",
    "        \n",
    "        embeddings = token_embeds + position_embeds + segment_embeds\n",
    "        embeddings = self.dropout(self.layernorm(embeddings))\n",
    "        \n",
    "        return embeddings\n",
    "\n",
    "vocab_size = 28996\n",
    "embed_size = 768\n",
    "\n",
    "model = BERTEmbedding(vocab_size, embed_size)\n",
    "\n",
    "tokens = torch.randint(0, vocab_size, (1, 10))\n",
    "segments = torch.randint(0, 2, (1, 10))\n",
    "\n",
    "embeddings = model(tokens, segments)\n",
    "print(embeddings.shape) # torch.Size([1, 10, 768])"
   ]
  },
  {
   "cell_type": "code",
   "execution_count": 3,
   "metadata": {},
   "outputs": [
    {
     "name": "stderr",
     "output_type": "stream",
     "text": [
      "Some weights of the model checkpoint at bert-base-cased were not used when initializing BertModel: ['cls.predictions.transform.LayerNorm.weight', 'cls.predictions.transform.dense.weight', 'cls.predictions.bias', 'cls.predictions.decoder.weight', 'cls.predictions.transform.LayerNorm.bias', 'cls.predictions.transform.dense.bias', 'cls.seq_relationship.weight', 'cls.seq_relationship.bias']\n",
      "- This IS expected if you are initializing BertModel from the checkpoint of a model trained on another task or with another architecture (e.g. initializing a BertForSequenceClassification model from a BertForPreTraining model).\n",
      "- This IS NOT expected if you are initializing BertModel from the checkpoint of a model that you expect to be exactly identical (initializing a BertForSequenceClassification model from a BertForSequenceClassification model).\n"
     ]
    },
    {
     "name": "stdout",
     "output_type": "stream",
     "text": [
      "BertEmbeddings(\n",
      "  (word_embeddings): Embedding(28996, 768, padding_idx=0)\n",
      "  (position_embeddings): Embedding(512, 768)\n",
      "  (token_type_embeddings): Embedding(2, 768)\n",
      "  (LayerNorm): LayerNorm((768,), eps=1e-12, elementwise_affine=True)\n",
      "  (dropout): Dropout(p=0.1, inplace=False)\n",
      ")\n"
     ]
    }
   ],
   "source": [
    "from transformers import BertModel\n",
    "\n",
    "model = BertModel.from_pretrained('bert-base-cased')\n",
    "print(model.embeddings) "
   ]
  },
  {
   "cell_type": "markdown",
   "metadata": {},
   "source": [
    "## Model Architecture"
   ]
  },
  {
   "cell_type": "code",
   "execution_count": 5,
   "metadata": {},
   "outputs": [
    {
     "name": "stdout",
     "output_type": "stream",
     "text": [
      "torch.Size([1, 10, 768])\n"
     ]
    }
   ],
   "source": [
    "class MultiheadAttention(nn.Module):\n",
    "    def __init__(self, embed_size, heads):\n",
    "        super(MultiheadAttention, self).__init__()\n",
    "        self.embed_size = embed_size\n",
    "        self.heads = heads\n",
    "        self.head_dim = embed_size // heads\n",
    "        \n",
    "        self.values = nn.Linear(self.head_dim, self.head_dim, bias=False)\n",
    "        self.keys = nn.Linear(self.head_dim, self.head_dim, bias=False)\n",
    "        self.queries = nn.Linear(self.head_dim, self.head_dim, bias=False)\n",
    "        self.fc_out = nn.Linear(heads*self.head_dim, embed_size)\n",
    "        \n",
    "    def forward(self, values, keys, queries, mask):\n",
    "        # values: (N, value_len, embed_size), keys: (N, key_len, embed_size), queries: (N, query_len, embed_size)\n",
    "        N = queries.shape[0]\n",
    "        value_len, key_len, query_len = values.shape[1], keys.shape[1], queries.shape[1]\n",
    "        \n",
    "        values = values.reshape(N, value_len, self.heads, self.head_dim).permute(0, 2, 1, 3) # (N, value_len, heads, head_dim) -> (N, heads, value_len, head_dim)\n",
    "        keys = keys.reshape(N, key_len, self.heads, self.head_dim).permute(0, 2, 1, 3)\n",
    "        queries = queries.reshape(N, query_len, self.heads, self.head_dim).permute(0, 2, 1, 3)\n",
    "        \n",
    "        values = self.values(values) # (N, heads, value_len, head_dim) -> (N, heads, value_len, head_dim)\n",
    "        keys = self.keys(keys)\n",
    "        queries = self.queries(queries)\n",
    "        \n",
    "        scores = torch.matmul(queries, keys.transpose(-2, -1)) / (self.embed_size ** (1 / 2)) # (N, heads, query_len, head_dim) * (N, heads, head_dim, key_len) -> (N, heads, query_len, key_len)\n",
    "\n",
    "        if mask is not None:\n",
    "            scores = scores.masked_fill(mask == 0, float(\"-inf\"))\n",
    "\n",
    "        attention = F.softmax(scores, dim=-1) # (N, heads, query_len, key_len): key_len에 대한 softmax\n",
    "        out = torch.matmul(attention, values).permute(0, 2, 1, 3).reshape(N, query_len, self.heads * self.head_dim) # (N, heads, query_len, key_len) * (N, heads, value_len, head_dim) -> (N, heads, query_len, head_dim) -> (N, query_len, heads, head_dim) -> (N, query_len, heads * head_dim)\n",
    "\n",
    "        return self.fc_out(out)\n",
    "    \n",
    "class TransformerBlock(nn.Module):\n",
    "    def __init__(self, embed_size, heads, dropout, forward_expansion):\n",
    "        super(TransformerBlock, self).__init__()\n",
    "        self.attention = MultiheadAttention(embed_size, heads)\n",
    "        self.norm1 = nn.LayerNorm(embed_size)\n",
    "        self.norm2 = nn.LayerNorm(embed_size)\n",
    "        \n",
    "        self.feed_forward = nn.Sequential(\n",
    "            nn.Linear(embed_size, forward_expansion*embed_size),\n",
    "            nn.GELU(),\n",
    "            nn.Linear(forward_expansion*embed_size, embed_size)\n",
    "        )\n",
    "        self.dropout = nn.Dropout(dropout)\n",
    "        \n",
    "    def forward(self, value, key, query, mask):\n",
    "        attention = self.attention(value, key, query, mask)\n",
    "        x = self.dropout(self.norm1(attention + query)) # query를 더하는 이유: original input을 representation하기 때문\n",
    "        forward = self.feed_forward(x)\n",
    "        out = self.dropout(self.norm2(forward + x))\n",
    "        return out\n",
    "    \n",
    "class BERT(nn.Module):\n",
    "    def __init__(self, vocab_size, embed_size, num_layers, heads, dropout, forward_expansion, max_length):\n",
    "        super(BERT, self).__init__()\n",
    "        self.embedding = BERTEmbedding(vocab_size, embed_size)\n",
    "        self.transformer_blocks = nn.ModuleList(\n",
    "            [\n",
    "                TransformerBlock(embed_size, heads, dropout, forward_expansion)\n",
    "                for _ in range(num_layers)\n",
    "            ]\n",
    "        )\n",
    "\n",
    "    def forward(self, x, segments):\n",
    "        embeddings = self.embedding(x, segments)\n",
    "        mask = (x != 0).unsqueeze(1).repeat(1, x.shape[1], 1).unsqueeze(1)\n",
    "        for transformer in self.transformer_blocks:\n",
    "            embeddings = transformer(embeddings, embeddings, embeddings, mask)\n",
    "        return embeddings\n",
    "\n",
    "vocab_size = 28996\n",
    "embed_size = 768\n",
    "num_layers = 12\n",
    "heads = 12\n",
    "dropout = 0.1\n",
    "forward_expansion = 4\n",
    "max_length = 512\n",
    "\n",
    "model = BERT(vocab_size, embed_size, num_layers, heads, dropout, forward_expansion, max_length)\n",
    "tokens = torch.randint(0, vocab_size, (1, 10))\n",
    "segments = torch.randint(0, 2, (1, 10))\n",
    "output = model(tokens, segments)\n",
    "print(output.shape)  # torch.Size([1, 10, 768])"
   ]
  }
 ],
 "metadata": {
  "kernelspec": {
   "display_name": "nlp",
   "language": "python",
   "name": "python3"
  },
  "language_info": {
   "codemirror_mode": {
    "name": "ipython",
    "version": 3
   },
   "file_extension": ".py",
   "mimetype": "text/x-python",
   "name": "python",
   "nbconvert_exporter": "python",
   "pygments_lexer": "ipython3",
   "version": "3.8.16"
  },
  "orig_nbformat": 4
 },
 "nbformat": 4,
 "nbformat_minor": 2
}
